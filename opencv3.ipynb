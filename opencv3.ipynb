{
 "cells": [
  {
   "cell_type": "code",
   "execution_count": 45,
   "metadata": {},
   "outputs": [],
   "source": [
    "import cv2 as cv\n",
    "import numpy as np\n",
    "cap=cv.VideoCapture(0)\n",
    "while (1):\n",
    "    ret,frame=cap.read()\n",
    "    frame=cv.flip(frame,1)\n",
    "    roi=frame[100:300,100:300]\n",
    "    cv.rectangle(frame,(100,100),(300,300),(0,255,0),0)\n",
    "    gray = cv.cvtColor(roi, cv.COLOR_BGR2GRAY) # convert to grayscale\n",
    "    et, thresh = cv.threshold(gray, 140, 255, cv.THRESH_BINARY)\n",
    "    contours, hierarchy = cv.findContours(thresh, cv.RETR_TREE, cv.CHAIN_APPROX_SIMPLE)\n",
    "    hull=[]\n",
    "    max_area=0\n",
    "    for i in range(len(contours)):\n",
    "        cnt=contours[i]\n",
    "        area=cv.contourArea(cnt)\n",
    "        if(area>max_area):\n",
    "            max_area=area\n",
    "            ci=i\n",
    "    cnt=contours[ci]\n",
    "    hull=cv.convexHull(cnt,returnPoints=False)\n",
    "    drawing = np.zeros((thresh.shape[0], thresh.shape[1], 3), np.uint8)\n",
    "    for i in range(len(contours)):\n",
    "        color_contours = (0, 255, 0) # green - color for contours\n",
    "        cv.drawContours(drawing,contours, i, color_contours, 1, 8, hierarchy)\n",
    "        #cv.drawContours(drawing, hull, i, (0,0,255), 1, 8)\n",
    "    defects=cv.convexityDefects(cnt, hull)\n",
    "    l=0\n",
    "    for i in range(defects.shape[0]):\n",
    "        s,e,f,d = defects[i,0]\n",
    "        start = tuple(cnt[s][0])\n",
    "        end = tuple(cnt[e][0])\n",
    "        far=tuple(cnt[f][0])\n",
    "        pt=(100,180)\n",
    "        l+=1\n",
    "        cv.circle(drawing,far,5,[0,0,255],-1)\n",
    "    font=cv.FONT_HERSHEY_SIMPLEX\n",
    "    if l>10:\n",
    "        cv.putText(frame,'TOP',(0,50),font,2,(0,0,255),3,cv.LINE_AA)\n",
    "    elif l<10:\n",
    "        cv.putText(frame,'BOTTOM',(0,50),font,2,(0,0,255),3,cv.LINE_AA)\n",
    "        #cv2.line(drawing,start,end,[0,255,0],2)\n",
    "        \n",
    "    cv.imshow('frame',frame)\n",
    "    cv.imshow('thresh',thresh)\n",
    "    cv.imshow('drawing',drawing)\n",
    "    if cv.waitKey(1) == ord('q'):\n",
    "        break\n",
    "cap.release()\n",
    "cv.destroyAllWindows()\n"
   ]
  },
  {
   "cell_type": "code",
   "execution_count": 42,
   "metadata": {},
   "outputs": [],
   "source": [
    "cap.release()"
   ]
  },
  {
   "cell_type": "code",
   "execution_count": null,
   "metadata": {},
   "outputs": [],
   "source": []
  }
 ],
 "metadata": {
  "kernelspec": {
   "display_name": "Python 3",
   "language": "python",
   "name": "python3"
  },
  "language_info": {
   "codemirror_mode": {
    "name": "ipython",
    "version": 3
   },
   "file_extension": ".py",
   "mimetype": "text/x-python",
   "name": "python",
   "nbconvert_exporter": "python",
   "pygments_lexer": "ipython3",
   "version": "3.6.8"
  }
 },
 "nbformat": 4,
 "nbformat_minor": 2
}
