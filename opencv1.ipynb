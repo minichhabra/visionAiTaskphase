{
 "cells": [
  {
   "cell_type": "code",
   "execution_count": null,
   "metadata": {},
   "outputs": [],
   "source": [
    "import cv2 as cv\n",
    "import numpy as np\n",
    "cap = cv.VideoCapture(0)\n",
    "fgbg = cv.createBackgroundSubtractorMOG2()\n",
    "#fourcc = cv.VideoWriter_fourcc(*'MJPG')\n",
    "#out = cv.VideoWriter('/home/mini/Downloads/ieee.mp4', fourcc, 20.0, (640,  480))\n",
    "while True:\n",
    "    ret,frame = cap.read()\n",
    "    frame=cv.flip(frame,1)\n",
    "    fgmask = fgbg.apply(frame)\n",
    "    #out.write(fgmask)\n",
    "    #cv.imshow('original frame',frame)\n",
    "    cv.imshow('fg',fgmask)\n",
    "    if cv.waitKey(1) == ord('q'):\n",
    "        break\n",
    "cap.release()\n",
    "#out.release()\n",
    "cv.destroyAllWindows()"
   ]
  }
 ],
 "metadata": {
  "kernelspec": {
   "display_name": "Python 3",
   "language": "python",
   "name": "python3"
  },
  "language_info": {
   "codemirror_mode": {
    "name": "ipython",
    "version": 3
   },
   "file_extension": ".py",
   "mimetype": "text/x-python",
   "name": "python",
   "nbconvert_exporter": "python",
   "pygments_lexer": "ipython3",
   "version": "3.6.8"
  }
 },
 "nbformat": 4,
 "nbformat_minor": 2
}
